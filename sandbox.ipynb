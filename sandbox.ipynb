{
 "cells": [
  {
   "cell_type": "code",
   "execution_count": 1,
   "metadata": {},
   "outputs": [
    {
     "data": {
      "text/plain": [
       "<tf.Tensor: shape=(), dtype=float32, numpy=105.29143>"
      ]
     },
     "execution_count": 1,
     "metadata": {},
     "output_type": "execute_result"
    }
   ],
   "source": [
    "import tensorflow as tf\n",
    "\n",
    "# M and A are random matrices of the same shape\n",
    "\n",
    "M = tf.random.normal((10, 10))\n",
    "A = tf.random.normal((10, 10))\n",
    "\n",
    "tf.norm(\n",
    "                tf.matmul(\n",
    "                    tf.transpose(M - tf.math.real(A), (1, 0)),\n",
    "                    M - tf.math.real(A),\n",
    "                ),\n",
    "                2,\n",
    "            )"
   ]
  },
  {
   "cell_type": "code",
   "execution_count": 9,
   "metadata": {},
   "outputs": [
    {
     "name": "stdout",
     "output_type": "stream",
     "text": [
      "tf.Tensor(105.29143, shape=(), dtype=float32)\n"
     ]
    }
   ],
   "source": [
    "# compute the Frobenius norm of the matrix product of the transpose of M - A and M - A\n",
    "\n",
    "norm = tf.norm(tf.matmul(tf.transpose(M - A), M - A))\n",
    "\n",
    "print(norm)"
   ]
  }
 ],
 "metadata": {
  "kernelspec": {
   "display_name": "base",
   "language": "python",
   "name": "python3"
  },
  "language_info": {
   "codemirror_mode": {
    "name": "ipython",
    "version": 3
   },
   "file_extension": ".py",
   "mimetype": "text/x-python",
   "name": "python",
   "nbconvert_exporter": "python",
   "pygments_lexer": "ipython3",
   "version": "3.12.2"
  }
 },
 "nbformat": 4,
 "nbformat_minor": 2
}
